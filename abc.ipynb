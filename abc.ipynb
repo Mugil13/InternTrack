{
 "cells": [
  {
   "cell_type": "code",
   "execution_count": null,
   "metadata": {},
   "outputs": [
    {
     "name": "stdout",
     "output_type": "stream",
     "text": [
      "Name: Nikilesh Jayaguptha\n",
      "Register Number: 3122225001081\n",
      "CGPA: 8.137\n",
      "Mobile Number: 9445323734\n",
      "Email ID: nikilesh2210219@ssn.edu.in\n",
      "Company: CDAC and tidel park\n",
      "Internship Start Date: 12.1.18\n",
      "Internship End Date: 12.3.18\n",
      "\n",
      "Extracted data saved to extracted_data.json\n"
     ]
    }
   ],
   "source": [
    "import pytesseract\n",
    "from pdf2image import convert_from_path\n",
    "import re\n",
    "\n",
    "import cv2\n",
    "import numpy as np\n",
    "from PIL import Image\n",
    "\n",
    "def preprocess_image(img):\n",
    "    \"\"\"Convert image to grayscale, apply thresholding, and denoise.\"\"\"\n",
    "    img = cv2.cvtColor(np.array(img), cv2.COLOR_RGB2GRAY)\n",
    "    img = cv2.threshold(img, 0, 255, cv2.THRESH_BINARY + cv2.THRESH_OTSU)[1]\n",
    "    return Image.fromarray(img)\n",
    "\n",
    "\n",
    "# Path to your PDF file\n",
    "pdf_path = \"intern.pdf\"\n",
    "\n",
    "# Convert PDF to images\n",
    "images = convert_from_path(pdf_path, dpi=300)\n",
    "\n",
    "# Extract text from images\n",
    "extracted_text = []\n",
    "for img in images:\n",
    "    img = preprocess_image(img)  # Apply preprocessing\n",
    "    text = pytesseract.image_to_string(img, config=\"--psm 6\")  # Use PSM mode for better accuracy\n",
    "    extracted_text.append(text)\n",
    "\n",
    "\n",
    "# Combine text from all pages\n",
    "full_text = \"\\n\".join(extracted_text)\n",
    "\n",
    "# Define patterns to extract required fields\n",
    "patterns = {\n",
    "    \"Name\": r\"Name\\s*:\\s*(.+)\",\n",
    "    \"Register Number\": r\"Register Number\\s*:\\s*(\\d+)\",\n",
    "    \"CGPA\": r\"CGPA\\s*:\\s*([\\d.]+)\",\n",
    "    \"Mobile Number\": r\"Mobile Number\\s*:\\s*(\\d{10})\",\n",
    "    \"Email ID\": r\"Email ID\\s*:\\s*([\\w\\.-]+@[\\w\\.-]+)\",\n",
    "    \"Company\": r\"Name of the Company / Institution\\s*:\\s*(.+)\",\n",
    "    \"Internship Start Date\": r\"Internship start date\\s*:\\s*([\\d./-]+)\",\n",
    "    \"Internship End Date\": r\"Internship end date\\s*:\\s*([\\d./-]+)\"\n",
    "}\n",
    "\n",
    "# Extract information using regex\n",
    "extracted_info = {}\n",
    "for key, pattern in patterns.items():\n",
    "    match = re.search(pattern, full_text, re.IGNORECASE)\n",
    "    extracted_info[key] = match.group(1).strip() if match else \"Not found\"\n",
    "\n",
    "# Print extracted data\n",
    "for key, value in extracted_info.items():\n",
    "    print(f\"{key}: {value}\")\n",
    "\n",
    "\n",
    "print(\"\\nExtracted data saved to extracted_data.json\")\n"
   ]
  }
 ],
 "metadata": {
  "kernelspec": {
   "display_name": "env",
   "language": "python",
   "name": "python3"
  },
  "language_info": {
   "codemirror_mode": {
    "name": "ipython",
    "version": 3
   },
   "file_extension": ".py",
   "mimetype": "text/x-python",
   "name": "python",
   "nbconvert_exporter": "python",
   "pygments_lexer": "ipython3",
   "version": "3.12.8"
  }
 },
 "nbformat": 4,
 "nbformat_minor": 2
}
